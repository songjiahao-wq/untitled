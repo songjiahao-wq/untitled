{
 "cells": [
  {
   "metadata": {},
   "cell_type": "raw",
   "source": "# torch>=2.0",
   "id": "8142cad95655cc9c"
  },
  {
   "metadata": {},
   "cell_type": "code",
   "source": "!pip install notebook",
   "id": "624172a8f54bf11e",
   "outputs": [],
   "execution_count": null
  },
  {
   "metadata": {
    "ExecuteTime": {
     "end_time": "2024-09-17T11:14:19.698898Z",
     "start_time": "2024-09-17T11:12:21.475902Z"
    }
   },
   "cell_type": "code",
   "source": [
    "!python -m pip install --upgrade pip\n",
    "# 更换 pypi 源加速库的安装\n",
    "# !pip config set global.index-url https://pypi.tuna.tsinghua.edu.cn/simple"
   ],
   "id": "d5db742dd908f5ac",
   "outputs": [
    {
     "name": "stdout",
     "output_type": "stream",
     "text": [
      "Defaulting to user installation because normal site-packages is not writeable\n",
      "Looking in indexes: https://pypi.tuna.tsinghua.edu.cn/simple\n",
      "Requirement already satisfied: pip in c:\\programdata\\anaconda3\\envs\\torch2.0\\lib\\site-packages (24.2)\n",
      "^C\n"
     ]
    }
   ],
   "execution_count": 1
  },
  {
   "metadata": {
    "ExecuteTime": {
     "end_time": "2024-09-17T11:14:53.188725Z",
     "start_time": "2024-09-17T11:14:46.721579Z"
    }
   },
   "cell_type": "code",
   "outputs": [
    {
     "name": "stdout",
     "output_type": "stream",
     "text": [
      "^C\n"
     ]
    }
   ],
   "execution_count": 2,
   "source": "!conda install cudatoolkit=11.8 cudnn=9.1",
   "id": "64b4dda2e0ec4326"
  },
  {
   "metadata": {},
   "cell_type": "code",
   "outputs": [],
   "execution_count": null,
   "source": "!conda install pytorch==2.3.1 torchvision==0.18.1 torchaudio==2.3.1 pytorch-cuda=11.8 -c pytorch -c nvidia",
   "id": "7be0e4457623fc6a"
  },
  {
   "metadata": {},
   "cell_type": "code",
   "outputs": [],
   "execution_count": null,
   "source": [
    "!pip install modelscope==1.11.0\n",
    "!pip install langchain==0.2.3\n",
    "!pip install \"transformers>=4.41.2\"\n",
    "!pip install -U huggingface_hub\n",
    "!pip install --upgrade Pillow"
   ],
   "id": "7c070178d72b21dc"
  },
  {
   "metadata": {},
   "cell_type": "code",
   "outputs": [],
   "execution_count": null,
   "source": "!conda install pytorch==2.4.0",
   "id": "5dbb61aa080ddd0f"
  },
  {
   "metadata": {
    "ExecuteTime": {
     "end_time": "2024-09-17T11:26:06.756910Z",
     "start_time": "2024-09-17T11:26:06.731910Z"
    }
   },
   "cell_type": "code",
   "source": [
    "import torch    \n",
    "print(torch.cuda.is_available())\n",
    "print(\"Pytorch version：\")\n",
    "print(torch.__version__)\n",
    "print(\"CUDA Version: \")\n",
    "print(torch.version.cuda)\n",
    "print(\"cuDNN version is :\")\n",
    "print(torch.backends.cudnn.version())\n"
   ],
   "id": "7413587dbb5312c8",
   "outputs": [
    {
     "ename": "ModuleNotFoundError",
     "evalue": "No module named 'torch'",
     "output_type": "error",
     "traceback": [
      "\u001B[1;31m---------------------------------------------------------------------------\u001B[0m",
      "\u001B[1;31mModuleNotFoundError\u001B[0m                       Traceback (most recent call last)",
      "Cell \u001B[1;32mIn[2], line 1\u001B[0m\n\u001B[1;32m----> 1\u001B[0m \u001B[38;5;28;01mimport\u001B[39;00m \u001B[38;5;21;01mtorch\u001B[39;00m    \n\u001B[0;32m      2\u001B[0m \u001B[38;5;28mprint\u001B[39m(torch\u001B[38;5;241m.\u001B[39mcuda\u001B[38;5;241m.\u001B[39mis_available())\n\u001B[0;32m      3\u001B[0m \u001B[38;5;28mprint\u001B[39m(\u001B[38;5;124m\"\u001B[39m\u001B[38;5;124mPytorch version：\u001B[39m\u001B[38;5;124m\"\u001B[39m)\n",
      "\u001B[1;31mModuleNotFoundError\u001B[0m: No module named 'torch'"
     ]
    }
   ],
   "execution_count": 2
  }
 ],
 "metadata": {
  "kernelspec": {
   "display_name": "torch2.0",
   "language": "python",
   "name": "torch2.0"
  },
  "language_info": {
   "codemirror_mode": {
    "name": "ipython",
    "version": 2
   },
   "file_extension": ".py",
   "mimetype": "text/x-python",
   "name": "python",
   "nbconvert_exporter": "python",
   "pygments_lexer": "ipython2",
   "version": "2.7.6"
  }
 },
 "nbformat": 4,
 "nbformat_minor": 5
}
