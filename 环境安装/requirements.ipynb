{
 "cells": [
  {
   "metadata": {},
   "cell_type": "raw",
   "source": "# torch>=2.0",
   "id": "8142cad95655cc9c"
  },
  {
   "metadata": {},
   "cell_type": "code",
   "outputs": [],
   "execution_count": null,
   "source": [
    "!python -m pip install --upgrade pip\n",
    "# 更换 pypi 源加速库的安装\n",
    "# !pip config set global.index-url https://pypi.tuna.tsinghua.edu.cn/simple\n",
    "!conda install pytorch==2.4.0 torchvision==0.19.0 torchaudio==2.4.0 -c pytorch"
   ],
   "id": "d5db742dd908f5ac"
  },
  {
   "metadata": {},
   "cell_type": "code",
   "outputs": [],
   "execution_count": null,
   "source": [
    "!pip install modelscope==1.11.0\n",
    "!pip install langchain==0.2.3\n",
    "!pip install \"transformers>=4.41.2\"\n",
    "!pip install -U huggingface_hub\n",
    "!pip install --upgrade Pillow"
   ],
   "id": "7c070178d72b21dc"
  },
  {
   "metadata": {},
   "cell_type": "code",
   "outputs": [],
   "execution_count": null,
   "source": "!conda install pytorch==2.4.0",
   "id": "5dbb61aa080ddd0f"
  }
 ],
 "metadata": {
  "kernelspec": {
   "display_name": "Python 3",
   "language": "python",
   "name": "python3"
  },
  "language_info": {
   "codemirror_mode": {
    "name": "ipython",
    "version": 2
   },
   "file_extension": ".py",
   "mimetype": "text/x-python",
   "name": "python",
   "nbconvert_exporter": "python",
   "pygments_lexer": "ipython2",
   "version": "2.7.6"
  }
 },
 "nbformat": 4,
 "nbformat_minor": 5
}
